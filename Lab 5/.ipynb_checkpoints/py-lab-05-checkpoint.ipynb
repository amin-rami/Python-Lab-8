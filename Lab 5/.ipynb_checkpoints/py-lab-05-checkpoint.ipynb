{
 "cells": [
  {
   "cell_type": "markdown",
   "metadata": {},
   "source": [
    "## Python Laboratory 5\n",
    "\n",
    "**Sharif University of Technology - Electrical Engineering Department**\n",
    "\n",
    "*Mohammad Amin Rami* - *98101588*  \n",
    "*Milad Heidari* - *98101469*  \n",
    "*Farbod Yadollahi* - *98102595*  \n",
    "\n",
    "### 1. Finding words in a table"
   ]
  },
  {
   "cell_type": "code",
   "execution_count": 1,
   "metadata": {},
   "outputs": [
    {
     "name": "stdout",
     "output_type": "stream",
     "text": [
      "Enter the word to search: SUT\n"
     ]
    },
    {
     "data": {
      "text/plain": [
       "False"
      ]
     },
     "execution_count": 1,
     "metadata": {},
     "output_type": "execute_result"
    }
   ],
   "source": [
    "table = [['ABCE'],['SFCS'],['ADEE']]\n",
    "str = input(\"Enter the word to search: \")\n",
    "\n",
    "class GWS:\n",
    "    def __init__(self, str):\n",
    "      self.dir = [[-1,0],[0,1],[1,0],[0,-1]]\n",
    "      self.str = str\n",
    "    \n",
    "    def set_grid(self,grid):\n",
    "      self.grid = [[0 for i in range(len(grid[0][0]))] for j in range(len(grid))]\n",
    "      self.search_grid = [[0 for i in range(len(grid[0][0]))] for j in range(len(grid))]\n",
    "      for i in range(len(grid)):\n",
    "        for j in range(len(grid[i][0])):\n",
    "          self.grid[i][j] = grid[i][0][j]\n",
    "\n",
    "    def print_grid(self):\n",
    "      for i in range(len(self.grid)):\n",
    "        for j in range(len(self.grid[i])):\n",
    "          print(self.grid[i][j],end=\" \")\n",
    "        print()\n",
    "    \n",
    "    def search_word(self, prev_i=0, prev_j=0, index=0):\n",
    "      if index == len(self.str):\n",
    "        return True\n",
    "      if index != 0:\n",
    "        for i, j in self.dir:\n",
    "          if i+j < 0:\n",
    "            if prev_i + i >= 0 and prev_j + j >= 0 and self.grid[prev_i+i][prev_j+j] == self.str[index] and self.search_grid[prev_i+i][prev_j+j] == 0:\n",
    "              self.search_grid[prev_i+i][prev_j+j] = 1\n",
    "              if self.search_word(prev_i+i, prev_j+j, index+1):\n",
    "                return True\n",
    "          else:\n",
    "            if prev_i + i < len(self.grid) and prev_j + j < len(self.grid[0]) and self.grid[prev_i+i][prev_j+j] == self.str[index] and self.search_grid[prev_i+i][prev_j+j] == 0:\n",
    "              self.search_grid[prev_i+i][prev_j+j] = 1\n",
    "              if self.search_word(prev_i+i, prev_j+j, index+1):\n",
    "                return True\n",
    "        self.search_grid[prev_i][prev_j] = 0\n",
    "      else:\n",
    "        for i in range(len(self.grid)):\n",
    "          for j in range(len(self.grid[i])):\n",
    "            if self.grid[i][j] == self.str[index]:\n",
    "              self.search_grid[i][j] = 1\n",
    "              if self.search_word(i, j, index+1):\n",
    "                return True\n",
    "      return False\n",
    "\n",
    "\n",
    "search = GWS(str)\n",
    "search.set_grid(table)\n",
    "search.search_word()        "
   ]
  },
  {
   "cell_type": "markdown",
   "metadata": {},
   "source": [
    "### 2. Levenshtein distance"
   ]
  },
  {
   "cell_type": "code",
   "execution_count": 2,
   "metadata": {},
   "outputs": [
    {
     "name": "stdout",
     "output_type": "stream",
     "text": [
      "Enter the first string: kitten\n",
      "Enter the second string: sittings\n",
      "Levenshtein distance between  kitten  and  sittings  is  4\n"
     ]
    }
   ],
   "source": [
    "# Calculate Levenshtein distance between two strings in recursive way\n",
    "str1 = input(\"Enter the first string: \")\n",
    "str2 = input(\"Enter the second string: \")\n",
    "\n",
    "def levenshtein(str1, str2):\n",
    "  if len(str1) == 0:\n",
    "    return len(str2)\n",
    "  if len(str2) == 0:\n",
    "    return len(str1)\n",
    "  if str1[0] == str2[0]:\n",
    "    return levenshtein(str1[1:], str2[1:])\n",
    "  else:\n",
    "    return 1 + min(levenshtein(str1[1:], str2[1:]), levenshtein(str1[1:], str2), levenshtein(str1, str2[1:]))\n",
    "\n",
    "print(\"Levenshtein distance between \",str1,\" and \",str2,\" is \",levenshtein(str1, str2))"
   ]
  },
  {
   "cell_type": "code",
   "execution_count": 3,
   "metadata": {},
   "outputs": [
    {
     "name": "stdout",
     "output_type": "stream",
     "text": [
      "Enter the first string: kitten\n",
      "Enter the second string: sittings\n",
      "Levenshtein distance between  kitten  and  sittings  is  4\n"
     ]
    }
   ],
   "source": [
    "# Calculate Levenshtein distance between two strings in dynamic programming way\n",
    "str1 = input(\"Enter the first string: \")\n",
    "str2 = input(\"Enter the second string: \")\n",
    "\n",
    "def levenshtein(str1, str2, m, n):\n",
    "  dp = [[0 for x in range(n + 1)] for x in range(m + 1)]\n",
    "\n",
    "  for i in range(m + 1):\n",
    "    for j in range(n + 1):\n",
    "      if i == 0:\n",
    "        dp[i][j] = j\n",
    "      elif j == 0:\n",
    "        dp[i][j] = i\n",
    "      elif str1[i-1] == str2[j-1]:\n",
    "        dp[i][j] = dp[i-1][j-1]\n",
    "      else:\n",
    "        dp[i][j] = 1 + min(dp[i][j-1], dp[i-1][j], dp[i-1][j-1])\n",
    "  return dp[m][n]\n",
    "\n",
    "print(\"Levenshtein distance between \",str1,\" and \",str2,\" is \",levenshtein(str1, str2, len(str1), len(str2)))"
   ]
  },
  {
   "cell_type": "markdown",
   "metadata": {},
   "source": [
    "### 3. Collatz conjecture"
   ]
  },
  {
   "cell_type": "code",
   "execution_count": 4,
   "metadata": {},
   "outputs": [
    {
     "name": "stdout",
     "output_type": "stream",
     "text": [
      "Enter the number: 45\n",
      "The collatz sequence for  45  is  [45, 136, 68, 34, 17, 52, 26, 13, 40, 20, 10, 5, 16, 8, 4, 2, 1]\n"
     ]
    }
   ],
   "source": [
    "# Print collatz sequence for a given number\n",
    "num = int(input(\"Enter the number: \"))\n",
    "\n",
    "def collatz(num):\n",
    "  arr = [num]\n",
    "  while num != 1:\n",
    "    if num % 2 == 0:\n",
    "      num = num // 2\n",
    "    else:\n",
    "      num = 3 * num + 1\n",
    "    arr.append(num)\n",
    "  return arr\n",
    "\n",
    "print('The collatz sequence for ',num,' is ',collatz(num))"
   ]
  },
  {
   "cell_type": "code",
   "execution_count": 6,
   "metadata": {},
   "outputs": [
    {
     "name": "stdout",
     "output_type": "stream",
     "text": [
      "The longest collatz sequence is  182  for  1161\n",
      "The collatz sequence for  1161  is  [1161, 3484, 1742, 871, 2614, 1307, 3922, 1961, 5884, 2942, 1471, 4414, 2207, 6622, 3311, 9934, 4967, 14902, 7451, 22354, 11177, 33532, 16766, 8383, 25150, 12575, 37726, 18863, 56590, 28295, 84886, 42443, 127330, 63665, 190996, 95498, 47749, 143248, 71624, 35812, 17906, 8953, 26860, 13430, 6715, 20146, 10073, 30220, 15110, 7555, 22666, 11333, 34000, 17000, 8500, 4250, 2125, 6376, 3188, 1594, 797, 2392, 1196, 598, 299, 898, 449, 1348, 674, 337, 1012, 506, 253, 760, 380, 190, 95, 286, 143, 430, 215, 646, 323, 970, 485, 1456, 728, 364, 182, 91, 274, 137, 412, 206, 103, 310, 155, 466, 233, 700, 350, 175, 526, 263, 790, 395, 1186, 593, 1780, 890, 445, 1336, 668, 334, 167, 502, 251, 754, 377, 1132, 566, 283, 850, 425, 1276, 638, 319, 958, 479, 1438, 719, 2158, 1079, 3238, 1619, 4858, 2429, 7288, 3644, 1822, 911, 2734, 1367, 4102, 2051, 6154, 3077, 9232, 4616, 2308, 1154, 577, 1732, 866, 433, 1300, 650, 325, 976, 488, 244, 122, 61, 184, 92, 46, 23, 70, 35, 106, 53, 160, 80, 40, 20, 10, 5, 16, 8, 4, 2, 1]\n"
     ]
    }
   ],
   "source": [
    "# Calculate collatz sequence length for all numbers below 2000 and print the longest sequence\n",
    "max_num = 0\n",
    "max_len = 0\n",
    "max_arr = []\n",
    "\n",
    "for i in range(1,2000):\n",
    "  arr = collatz(i)\n",
    "  if len(arr) > max_len:\n",
    "    max_len = len(arr)\n",
    "    max_num = i\n",
    "    max_arr = arr\n",
    "\n",
    "print('The longest collatz sequence is ',max_len,' for ',max_num)\n",
    "print('The collatz sequence for ',max_num,' is ',max_arr)"
   ]
  },
  {
   "cell_type": "markdown",
   "metadata": {},
   "source": [
    "### 4. Traveling between cities"
   ]
  },
  {
   "cell_type": "code",
   "execution_count": 5,
   "metadata": {},
   "outputs": [
    {
     "name": "stdout",
     "output_type": "stream",
     "text": [
      "D:  [0, 300, 450, 700, 900, 1100, 1200]\n",
      "P:  [0, 1100, 1500, 900, 2100, 1300, 0]\n",
      "Stop at station  1  with price  1100  cents/liter\n",
      "D:  [300, 450, 700, 900, 1100, 1200]\n",
      "P:  [1100, 1500, 900, 2100, 1300, 0]\n",
      "Stop at station  2  with price  900  cents/liter\n",
      "D:  [700, 900, 1100, 1200]\n",
      "P:  [900, 2100, 1300, 0]\n",
      "Stop at station  2  with price  1300  cents/liter\n",
      "D:  [1100, 1200]\n",
      "P:  [1300, 0]\n",
      "The minimum price is  245000.0  cents.\n"
     ]
    }
   ],
   "source": [
    "# Program to calculate the stations to stop to reach destination with minimum price\n",
    "C = 50                                      # Tank capacity (liter)\n",
    "F = 0.1                                     # Consumption (liter/km)\n",
    "N = 5                                       # Number of stations\n",
    "D = [0, 300, 450, 700, 900, 1100, 1200]     # Location of stations (km)\n",
    "P = [0, 1100, 1500, 900, 2100, 1300, 0]     # Price of stations (cents/liter)\n",
    "\n",
    "# Solve the problem using recursive way\n",
    "def min_price_recursive(D, P, C, F, N):\n",
    "  print('D: ', D)\n",
    "  print('P: ', P)\n",
    "  if len(D) == 2 and D[1] - D[0] <= C / F:\n",
    "    return 0, True\n",
    "  if D[1] - D[0] > C / F:\n",
    "    return 0, False\n",
    "  min_price = float('inf')\n",
    "  for i in range(1, len(D)-1):\n",
    "    if D[i] - D[0] <= C / F:\n",
    "      if P[i] < min_price:\n",
    "        min_price = P[i]\n",
    "        min_index = i\n",
    "  print('Stop at station ', min_index, ' with price ', min_price, ' cents/liter')\n",
    "  return (D[i] - D[0]) * F * min_price + min_price_recursive(D[min_index:], P[min_index:], C, F, N)[0], True\n",
    "\n",
    "result = min_price_recursive(D, P, C, F, N)\n",
    "if result[1]:\n",
    "  print(\"The minimum price is \", result[0], \" cents.\")\n",
    "else:\n",
    "  print(\"The journey is not possible\")\n",
    "  "
   ]
  },
  {
   "cell_type": "markdown",
   "metadata": {},
   "source": [
    "### 5. Round to multiples of 5"
   ]
  },
  {
   "cell_type": "code",
   "execution_count": 7,
   "metadata": {},
   "outputs": [
    {
     "name": "stdout",
     "output_type": "stream",
     "text": [
      "Enter the number: 46\n",
      "The nearest multiple of 5 for  46  is  45\n"
     ]
    }
   ],
   "source": [
    "# Lambda function that calculates nearest multiple of 5 for a given number\n",
    "num = int(input(\"Enter the number: \"))\n",
    "remainders = [0,-1,-2,2,1]\n",
    "print(\"The nearest multiple of 5 for \",num,\" is \",(lambda x: x + remainders[x % 5])(num))"
   ]
  },
  {
   "cell_type": "markdown",
   "metadata": {},
   "source": [
    "### 6. Transforming list of lists"
   ]
  },
  {
   "cell_type": "code",
   "execution_count": 8,
   "metadata": {},
   "outputs": [
    {
     "name": "stdout",
     "output_type": "stream",
     "text": [
      "['Mohammad Amin Rami', 'Milad Heydari', 'Farbod Yadollahi', 'Behrad Ahmadpour']\n"
     ]
    }
   ],
   "source": [
    "# Transform list of lists into a single list\n",
    "list_of_lists = [\n",
    "    ['Mohammad', 'Amin', 'Rami'], \n",
    "    ['Milad', 'Heydari'], \n",
    "    ['Farbod', 'Yadollahi'], \n",
    "    ['Behrad', 'Ahmadpour'],\n",
    "]\n",
    "list = [' '.join(item for item in sublist) for sublist in list_of_lists]\n",
    "print(list)"
   ]
  },
  {
   "cell_type": "markdown",
   "metadata": {},
   "source": [
    "### 7. Using `import` and `from`"
   ]
  },
  {
   "cell_type": "code",
   "execution_count": 9,
   "metadata": {},
   "outputs": [
    {
     "name": "stdout",
     "output_type": "stream",
     "text": [
      "Enter the number: 7\n",
      "The square of  7  is  49\n"
     ]
    }
   ],
   "source": [
    "# Import square function from square.py\n",
    "from square import square\n",
    "\n",
    "num = int(input(\"Enter the number: \"))\n",
    "print(\"The square of \",num,\" is \",square(num))"
   ]
  },
  {
   "cell_type": "markdown",
   "metadata": {},
   "source": [
    "`import` statement imports all functions from given module.  \n",
    "`from ... import ...` statement imports only the given function from the given module. To specify multiple functions, use comma to separate them."
   ]
  },
  {
   "cell_type": "code",
   "execution_count": 10,
   "metadata": {},
   "outputs": [
    {
     "name": "stdout",
     "output_type": "stream",
     "text": [
      "sin(pi/2) =  1.0\n",
      "cos(pi/2) =  0.0\n"
     ]
    }
   ],
   "source": [
    "from math import sin, cos, tan, pi\n",
    "\n",
    "print(\"sin(pi/2) = \",round(sin(pi/2), 5))\n",
    "print(\"cos(pi/2) = \",round(cos(pi/2), 5))"
   ]
  },
  {
   "cell_type": "markdown",
   "metadata": {},
   "source": [
    "### 8. Handling files using `with` statement"
   ]
  },
  {
   "cell_type": "code",
   "execution_count": 11,
   "metadata": {},
   "outputs": [],
   "source": [
    "with open('student.txt', 'r') as f:\n",
    "  lines = []\n",
    "  for line in f:\n",
    "    lines.append(line)\n",
    "\n",
    "lines_modified = []\n",
    "for line in lines:\n",
    "  line = line.split(',')\n",
    "  line = [item.strip() for item in line]\n",
    "  lines_modified.append(line[1] + ', ' + line[0] + '\\n')\n",
    "\n",
    "with open('student_modified.txt', 'w') as f:\n",
    "  for line in lines_modified:\n",
    "    f.write(line)"
   ]
  }
 ],
 "metadata": {
  "kernelspec": {
   "display_name": "Python 3 (ipykernel)",
   "language": "python",
   "name": "python3"
  },
  "language_info": {
   "codemirror_mode": {
    "name": "ipython",
    "version": 3
   },
   "file_extension": ".py",
   "mimetype": "text/x-python",
   "name": "python",
   "nbconvert_exporter": "python",
   "pygments_lexer": "ipython3",
   "version": "3.10.6"
  },
  "vscode": {
   "interpreter": {
    "hash": "75d96e6ef25a95504ddc86fa4d9bbe2bd0cac5e7974bae977044c283507a5a27"
   }
  }
 },
 "nbformat": 4,
 "nbformat_minor": 2
}
